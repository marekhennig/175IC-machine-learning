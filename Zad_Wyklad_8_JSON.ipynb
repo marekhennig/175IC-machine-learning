{
  "nbformat": 4,
  "nbformat_minor": 0,
  "metadata": {
    "colab": {
      "name": "Untitled13.ipynb",
      "provenance": [],
      "authorship_tag": "ABX9TyNWEoJt8y9wi6U6ayGchzkL",
      "include_colab_link": true
    },
    "kernelspec": {
      "name": "python3",
      "display_name": "Python 3"
    }
  },
  "cells": [
    {
      "cell_type": "markdown",
      "metadata": {
        "id": "view-in-github",
        "colab_type": "text"
      },
      "source": [
        "<a href=\"https://colab.research.google.com/github/marekhennig/175IC-machine-learning/blob/main/Zad_Wyklad_8_JSON.ipynb\" target=\"_parent\"><img src=\"https://colab.research.google.com/assets/colab-badge.svg\" alt=\"Open In Colab\"/></a>"
      ]
    },
    {
      "cell_type": "code",
      "metadata": {
        "colab": {
          "base_uri": "https://localhost:8080/"
        },
        "id": "NU3eTEFdG3PA",
        "outputId": "24a16e65-5647-4211-f293-b95860c98c4b"
      },
      "source": [
        "import json\r\n",
        "import requests\r\n",
        "\r\n",
        "data = {\r\n",
        "    \"name\": \"Monika\",\r\n",
        "    \"lastName\": \"Gonzales\",\r\n",
        "    \"email\": \"Monika.Gonzalesss@domena.com\",\r\n",
        "    \"bio\":\"Jakaś randomowa szanowna kobieta wspierająca strajk kobiet\"\r\n",
        "  }\r\n",
        "\r\n",
        "#Serializacja - zapis jako json\r\n",
        "with open(\"data_file.json\", \"w\") as write_file:\r\n",
        "    json.dump(data, write_file)\r\n",
        "json_string = json.dumps(data)\r\n",
        "\r\n",
        "#Deserializacja\r\n",
        "data_prep = (0,\"M\",'Null',1,\"S\")\r\n",
        "encoded_data_prep = json.dumps(data_prep)\r\n",
        "decoded_data_prep = json.loads(encoded_data_prep)\r\n",
        "type(data_prep)==type(decoded_data_prep) #Należy pamiętać że json nie wszystkie obiekty przechowuje tak samo jak PYTHON, w tym przypadku z jednej strony mamy tuple, z drugiej listę\r\n",
        "\r\n",
        "with open(\"data_file.json\", \"r\") as read_file:\r\n",
        "    data = json.load(read_file)\r\n",
        "\r\n",
        "#Wczytywanie JSON ze Stringa\r\n",
        "data_String = '''{\r\n",
        "    \"name\": \"Marta\",\r\n",
        "    \"lastName\": \"Gonzales\",\r\n",
        "    \"email\": \"Marta.Gonzalesss@domena.com\",\r\n",
        "    \"bio\":\"Córka Jakiejś Randomowej Szanownej Kobiety wspierającej strajk kobiet\",\r\n",
        "    \"meetings\":[{\r\n",
        "                    \"title\": \"Konsultacje 1\",\r\n",
        "                    \"start\": \"2020-12-11T08:55:00\",\r\n",
        "                    \"end\":\"2020-12-11T08:55:00\"\r\n",
        "                },\r\n",
        "                {\r\n",
        "                    \"title\": \"Konsultacje 2\",\r\n",
        "                    \"start\": \"2020-12-11T09:55:00\",\r\n",
        "                    \"end\":\"2020-12-11T10:55:00\"\r\n",
        "                }]\r\n",
        "  }'''\r\n",
        "data = json.loads(data_String)\r\n",
        "data\r\n",
        "\r\n",
        "#JSON z linku\r\n",
        "response = requests.get(\"https://jsonplaceholder.typicode.com/comments\")\r\n",
        "comments = json.loads(response.text)\r\n",
        "comments[:1]\r\n",
        "\r\n",
        "#Najdłuższy komentarz\r\n",
        "bigLenComm=''\r\n",
        "for comment in comments:\r\n",
        "    if(len(bigLenComm))<len(comment['body']):\r\n",
        "      bigLenComm = comment['body']\r\n",
        "print(bigLenComm)\r\n",
        "\r\n",
        "#Zapisywanie do pliku\r\n",
        "with open(\"najdluzszy_komentarz.json\", \"w\") as data_file:\r\n",
        "    json.dump(bigLenComm, data_file, indent=2)\r\n",
        "\r\n",
        "#Kodowanie własnych typów, na przykładzie liczb zespolonych\r\n",
        "def encode_complex(z):\r\n",
        "    if isinstance(z, complex):\r\n",
        "        return (z.real, z.imag)\r\n",
        "    else:\r\n",
        "        type_name = z.__class__.__name__\r\n",
        "        raise TypeError(f\"Object of type '{type_name}' is not JSON serializable\")\r\n",
        "\r\n",
        "json.dumps(7 + 3j, default=encode_complex)\r\n",
        "\r\n",
        "class ComplexEncoder(json.JSONEncoder):\r\n",
        "    def default(self, z):\r\n",
        "        if isinstance(z, complex):\r\n",
        "            return (z.real, z.imag)\r\n",
        "        else:\r\n",
        "            return super().default(z)\r\n",
        "\r\n",
        "json.dumps(8 + 2j, cls=ComplexEncoder)\r\n",
        "encoder = ComplexEncoder()\r\n",
        "encoder.encode([1 + 3j])\r\n",
        "\r\n",
        "#Odkodowanie Niestandardowego typu\r\n",
        "def decode_complex(dct):\r\n",
        "    if \"__complex__\" in dct:\r\n",
        "        return complex(dct[\"real\"], dct[\"imag\"])\r\n",
        "    return dct\r\n",
        "data = '''{\r\n",
        "    \"__complex__\": true,\r\n",
        "    \"real\": 12,\r\n",
        "    \"imag\": 5\r\n",
        "}'''\r\n",
        "dec = json.loads(data, object_hook=decode_complex)\r\n",
        "type(dec)\r\n",
        "complex"
      ],
      "execution_count": 24,
      "outputs": [
        {
          "output_type": "stream",
          "text": [
            "qui ipsa animi nostrum praesentium voluptatibus odit\n",
            "qui non impedit cum qui nostrum aliquid fuga explicabo\n",
            "voluptatem fugit earum voluptas exercitationem temporibus dignissimos distinctio\n",
            "esse inventore reprehenderit quidem ut incidunt nihil necessitatibus rerum\n"
          ],
          "name": "stdout"
        },
        {
          "output_type": "execute_result",
          "data": {
            "text/plain": [
              "complex"
            ]
          },
          "metadata": {
            "tags": []
          },
          "execution_count": 24
        }
      ]
    }
  ]
}