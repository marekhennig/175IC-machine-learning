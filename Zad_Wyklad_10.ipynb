{
  "nbformat": 4,
  "nbformat_minor": 0,
  "metadata": {
    "colab": {
      "name": "Untitled17.ipynb",
      "provenance": [],
      "authorship_tag": "ABX9TyOdt+wYYmT7gXMCsDwAXfaJ",
      "include_colab_link": true
    },
    "kernelspec": {
      "name": "python3",
      "display_name": "Python 3"
    }
  },
  "cells": [
    {
      "cell_type": "markdown",
      "metadata": {
        "id": "view-in-github",
        "colab_type": "text"
      },
      "source": [
        "<a href=\"https://colab.research.google.com/github/marekhennig/175IC-machine-learning/blob/main/Zad_Wyklad_10.ipynb\" target=\"_parent\"><img src=\"https://colab.research.google.com/assets/colab-badge.svg\" alt=\"Open In Colab\"/></a>"
      ]
    },
    {
      "cell_type": "code",
      "metadata": {
        "colab": {
          "base_uri": "https://localhost:8080/"
        },
        "id": "2fR29NnpwBE6",
        "outputId": "a42a85cb-16d0-40db-dab4-a5f54900c7a6"
      },
      "source": [
        "!pip install aiohttp\r\n",
        "\r\n",
        "!pip install nest_asyncio\r\n",
        "import nest_asyncio\r\n",
        "nest_asyncio.apply()\r\n",
        "\r\n",
        "import concurrent.futures\r\n",
        "import requests\r\n",
        "import threading\r\n",
        "import asyncio\r\n",
        "import aiohttp\r\n",
        "import multiprocessing\r\n",
        "import time\r\n",
        "import shutil\r\n",
        "import os\r\n",
        "from urllib import request\r\n",
        "import timeit\r\n",
        "from concurrent.futures import ThreadPoolExecutor\r\n",
        "\r\n",
        "images = []\r\n",
        "response = requests.get(\"https://picsum.photos/v2/list\")\r\n",
        "res = response.json()\r\n",
        "for info in res:\r\n",
        "    images.append(info['download_url'])\r\n",
        "\r\n",
        "\r\n",
        "def download_image(link):\r\n",
        "    filename = link.split('/')[4]\r\n",
        "    fileformat = 'jpg'\r\n",
        "    r = requests.get(link, stream=True)\r\n",
        "    if r.status_code == 200:\r\n",
        "        r.raw.decode_content = True\r\n",
        "        with open(filename, 'wb') as f:\r\n",
        "            shutil.copyfileobj(r.raw, f)\r\n",
        "    else:\r\n",
        "        request.urlretrieve(link, \"downloads/{}.{}\".format(filename, fileformat))\r\n",
        "        print(\"{}.{} downloaded \".format(filename, fileformat))\r\n",
        "\r\n",
        "\r\n",
        "def download_album():\r\n",
        "    with ThreadPoolExecutor(max_workers=5) as executor:\r\n",
        "        executor.map(download_image, images)\r\n",
        "\r\n",
        "\r\n",
        "def main():\r\n",
        "    download_album()\r\n",
        "\r\n",
        "\r\n",
        "if __name__ == \"__main__\":\r\n",
        "    print(\"Time taken to download images using multithreading: {}\".format(\r\n",
        "        timeit.Timer(main).timeit(number=1)))\r\n",
        "\r\n",
        "\r\n",
        "def main_multi():\r\n",
        "    pool = multiprocessing.Pool(multiprocessing.cpu_count())\r\n",
        "    result = pool.map(download_image, [image for image in images])\r\n",
        "\r\n",
        "\r\n",
        "if __name__ == \"__main__\":\r\n",
        "    print(\"Time taken to download images using multiprocessing: {}\".format(timeit.Timer(main).timeit(number=1)))\r\n",
        "\r\n",
        "\r\n",
        "async def download_image_asyncio(link, session):\r\n",
        "    filename = link.split('/')[4]\r\n",
        "    fileformat = 'jpg'\r\n",
        "    async with session.get(link) as response:\r\n",
        "        with open(\"{}.{}\".format(filename, fileformat), 'wb') as fd:\r\n",
        "            async for data in response.content.iter_chunked(1024):\r\n",
        "                fd.write(data)\r\n",
        "\r\n",
        "\r\n",
        "async def main():\r\n",
        "    async with aiohttp.ClientSession() as session:\r\n",
        "        tasks = [download_image_asyncio(image, session) for image in images]\r\n",
        "        return await asyncio.gather(*tasks)\r\n",
        "\r\n",
        "if __name__ == \"__main__\":\r\n",
        "    start_time = timeit.default_timer()\r\n",
        "    loop = asyncio.get_event_loop()\r\n",
        "    results = loop.run_until_complete(main())\r\n",
        "    time_taken = timeit.default_timer() - start_time\r\n",
        "\r\n",
        "    print(\"Time taken to download images using AsyncIO: {}\".format(time_taken))"
      ],
      "execution_count": 6,
      "outputs": [
        {
          "output_type": "stream",
          "text": [
            "Requirement already satisfied: aiohttp in /usr/local/lib/python3.6/dist-packages (3.7.3)\n",
            "Requirement already satisfied: multidict<7.0,>=4.5 in /usr/local/lib/python3.6/dist-packages (from aiohttp) (5.1.0)\n",
            "Requirement already satisfied: chardet<4.0,>=2.0 in /usr/local/lib/python3.6/dist-packages (from aiohttp) (3.0.4)\n",
            "Requirement already satisfied: attrs>=17.3.0 in /usr/local/lib/python3.6/dist-packages (from aiohttp) (20.3.0)\n",
            "Requirement already satisfied: idna-ssl>=1.0; python_version < \"3.7\" in /usr/local/lib/python3.6/dist-packages (from aiohttp) (1.1.0)\n",
            "Requirement already satisfied: async-timeout<4.0,>=3.0 in /usr/local/lib/python3.6/dist-packages (from aiohttp) (3.0.1)\n",
            "Requirement already satisfied: yarl<2.0,>=1.0 in /usr/local/lib/python3.6/dist-packages (from aiohttp) (1.6.3)\n",
            "Requirement already satisfied: typing-extensions>=3.6.5 in /usr/local/lib/python3.6/dist-packages (from aiohttp) (3.7.4.3)\n",
            "Requirement already satisfied: idna>=2.0 in /usr/local/lib/python3.6/dist-packages (from idna-ssl>=1.0; python_version < \"3.7\"->aiohttp) (2.10)\n",
            "Requirement already satisfied: nest_asyncio in /usr/local/lib/python3.6/dist-packages (1.5.1)\n",
            "Time taken to download images using multithreading: 2.2562578759999496\n",
            "Time taken to download images using multiprocessing: 2.0645176339999125\n",
            "Time taken to download images using AsyncIO: 0.6717623220000633\n"
          ],
          "name": "stdout"
        }
      ]
    }
  ]
}