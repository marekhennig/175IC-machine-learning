{
  "nbformat": 4,
  "nbformat_minor": 0,
  "metadata": {
    "colab": {
      "name": "Untitled11.ipynb",
      "provenance": [],
      "toc_visible": true,
      "authorship_tag": "ABX9TyO05CHe9WppXxqEbwXv9PQt",
      "include_colab_link": true
    },
    "kernelspec": {
      "name": "python3",
      "display_name": "Python 3"
    }
  },
  "cells": [
    {
      "cell_type": "markdown",
      "metadata": {
        "id": "view-in-github",
        "colab_type": "text"
      },
      "source": [
        "<a href=\"https://colab.research.google.com/github/marekhennig/175IC-machine-learning/blob/main/Wyk%C5%82ad4.ipynb\" target=\"_parent\"><img src=\"https://colab.research.google.com/assets/colab-badge.svg\" alt=\"Open In Colab\"/></a>"
      ]
    },
    {
      "cell_type": "code",
      "metadata": {
        "colab": {
          "base_uri": "https://localhost:8080/"
        },
        "id": "7xKPCOPKnubr",
        "outputId": "3eaaabad-a2d8-42a6-bcde-d6b1742684b0"
      },
      "source": [
        "from bs4 import BeautifulSoup\r\n",
        "from openpyxl import Workbook\r\n",
        "import re\r\n",
        "import requests\r\n",
        "import string\r\n",
        "import random\r\n",
        "import pandas as pd\r\n",
        "\r\n",
        "\r\n",
        "workbook = Workbook()\r\n",
        "workbookActive = workbook.active\r\n",
        "\r\n",
        "def random_char(y):\r\n",
        "    return ''.join(random.choice(string.ascii_lowercase) for x in range(y))\r\n",
        "\r\n",
        "results=[]\r\n",
        "hit = 0\r\n",
        "max = 5\r\n",
        "workbookActive.append(['NAZWA','KURS','ZMIANA','TRANSAKCJE'])\r\n",
        "while hit < max:\r\n",
        "    code = (random_char(3))\r\n",
        "    url = f'https://stooq.pl/q/?s={code}'\r\n",
        "    page = requests.get(url)\r\n",
        "    bS = BeautifulSoup(page.text, 'html.parser')\r\n",
        "    table = bS.find('tbody', style='background-color:ffffff')\r\n",
        "    if table != None:\r\n",
        "      print(str(hit+1)+'/5')\r\n",
        "\r\n",
        "      hit=hit+1    \r\n",
        "      rows=table.findAll('tr')\r\n",
        "      stock=rows[0].find('td')\r\n",
        "      stock=stock.find('span')\r\n",
        "      stockResult=''\r\n",
        "      if stock:\r\n",
        "          stockResult=stock.text\r\n",
        "      change=rows[3].find('font', id='c1')\r\n",
        "      changeResult=''\r\n",
        "      if change:\r\n",
        "          changeResult=change.text\r\n",
        "      else:\r\n",
        "          change=rows[2].findAll('span')\r\n",
        "          if change:\r\n",
        "              changeResult=change[1].text\r\n",
        "          else:\r\n",
        "              change=rows[4].findAll('span')\r\n",
        "              changeResult=change[1].text\r\n",
        "\r\n",
        "      transaction = rows[8].findAll('span')\r\n",
        "      transactionResult=''\r\n",
        "      if transaction == []:\r\n",
        "          transaction = rows[7].findAll('span')\r\n",
        "          if transaction:\r\n",
        "              transactionResult=transaction[1].text\r\n",
        "          else:\r\n",
        "              transaction = rows[6].findAll('span')\r\n",
        "              transactionResult=transaction[1].text\r\n",
        "      else:\r\n",
        "          transactionResult=transaction[1].text\r\n",
        "        \r\n",
        "      workbookActive.append([code,stockResult, changeResult, transactionResult])\r\n",
        "\r\n",
        "workbook.save(\"Giełda.xlsx\")\r\n",
        "\r\n",
        "workbook = Workbook()\r\n",
        "workbookActive = workbook.active\r\n",
        "\r\n",
        "url= 'https://zacniewski.gitlab.io/teaching/2020-ml-intro/'\r\n",
        "page = requests.get(url)\r\n",
        "bS = BeautifulSoup(page.text, 'html.parser')\r\n",
        "links = bS.find_all('a')\r\n",
        "j=0\r\n",
        "max = 10;\r\n",
        "while j<max:\r\n",
        "  link = links[j]\r\n",
        "  href = link.get('href')\r\n",
        "  if href!='javascript:void(0)':\r\n",
        "    workbookActive.append([href])\r\n",
        "  else:\r\n",
        "    max +=1;\r\n",
        "  j += 1\r\n",
        "\r\n",
        "\r\n",
        "workbook.save(\"Linki.xlsx\")\r\n",
        "workbook = Workbook()\r\n",
        "workbookActive = workbook.active\r\n",
        "\r\n",
        "url= 'https://www.filmweb.pl/serial/Gambit+kr%C3%B3lowej-2020-840024'\r\n",
        "page = requests.get(url)\r\n",
        "bS = BeautifulSoup(page.text, 'html.parser')\r\n",
        "director = bS.find('span', itemprop ='name').text\r\n",
        "\r\n",
        "\r\n",
        "rating = bS.find('span', class_='filmRating__rateValue').text\r\n",
        "boxoffice = bS.find('span', class_='filmRating__count').text\r\n",
        "filmOtherInfoSection__group = bS.find('div', class_='filmOtherInfoSection__group')\r\n",
        "print(filmOtherInfoSection__group)\r\n",
        "release = filmOtherInfoSection__group.find(text='data produkcji').next_element.find('div', class_='filmInfo__info')\r\n",
        "print(release)\r\n",
        "workbookActive.append([director,boxoffice,rating,release])\r\n",
        "\r\n",
        "workbook.save('Filmweb.xlsx')"
      ],
      "execution_count": 20,
      "outputs": [
        {
          "output_type": "stream",
          "text": [
            "1/5\n",
            "2/5\n",
            "3/5\n",
            "4/5\n",
            "5/5\n",
            "<div class=\"filmOtherInfoSection__group\"><div class=\"filmInfo__group\"></div><div class=\"filmInfo__group\"><div class=\"filmInfo__header\">na podstawie</div><div class=\"filmInfo__info\"><span class=\"originalMaterials\"> <a href=\"/person/Walter+Tevis-1881587\" title=\"Walter Tevis\"> Walter Tevis </a> <span class=\"cap\">(powieść)</span> </span><div class=\"filmOtherInfoSection__vote\"><a class=\"cap creators\" href=\"/serial/Gambit+kr%C3%B3lowej-2020-840024/cast/crew\"> oceń twórców<i class=\"roleVoteBtn small\"></i> </a></div></div></div><div class=\"filmInfo__group\"><div class=\"filmInfo__header\">studio</div><div class=\"filmInfo__info\">Netflix</div></div><div class=\"filmInfo__group\"><div class=\"filmInfo__header\">data produkcji</div><div class=\"filmInfo__info\">2020</div></div><div class=\"filmInfo__group\"><div class=\"filmInfo__header\">tytuł oryg.</div><div class=\"filmInfo__info\">The Queen's Gambit</div></div><div class=\"filmInfo__group\"><div class=\"filmInfo__header\">inne tytuły</div><div class=\"filmInfo__info\">Gambit królowej <span class=\"filmInfo__infoText\"> Polska </span> <br/> <a class=\"more\" href=\"/serial/Gambit+kr%C3%B3lowej-2020-840024/titles\">Więcej...</a></div></div></div>\n",
            "None\n"
          ],
          "name": "stdout"
        }
      ]
    }
  ]
}