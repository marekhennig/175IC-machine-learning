{
  "nbformat": 4,
  "nbformat_minor": 0,
  "metadata": {
    "colab": {
      "name": "Untitled12.ipynb",
      "provenance": [],
      "authorship_tag": "ABX9TyPsDLxnSnCkiPp+JUx4rDhU",
      "include_colab_link": true
    },
    "kernelspec": {
      "name": "python3",
      "display_name": "Python 3"
    }
  },
  "cells": [
    {
      "cell_type": "markdown",
      "metadata": {
        "id": "view-in-github",
        "colab_type": "text"
      },
      "source": [
        "<a href=\"https://colab.research.google.com/github/marekhennig/175IC-machine-learning/blob/main/Zad_Wyklad_7.ipynb\" target=\"_parent\"><img src=\"https://colab.research.google.com/assets/colab-badge.svg\" alt=\"Open In Colab\"/></a>"
      ]
    },
    {
      "cell_type": "code",
      "metadata": {
        "colab": {
          "base_uri": "https://localhost:8080/"
        },
        "id": "pR8G6YsORXW1",
        "outputId": "016019ae-5a58-4792-f3cb-0977995d856f"
      },
      "source": [
        "import numpy as np\r\n",
        "from tabulate import tabulate\r\n",
        "\r\n",
        "#Definicje Funkcji reużywalnych\r\n",
        "def fun (x):\r\n",
        "  return 0 if x<0 else 1\r\n",
        "def neuron_sumD(bias, inputs, weights):\r\n",
        "  return bias*weights[0]+inputs[0]*weights[1]+inputs[1]*weights[2]\r\n",
        "def neuron_sum(bias, inputs, weights):\r\n",
        "  return weights[0]*bias+weights[1]*input\r\n",
        "def layers(bias, inputs, weights):\r\n",
        "  A=np.array([bias]+inputs).transpose()\r\n",
        "  W=np.array(weights).transpose()\r\n",
        "  return A.dot(W)\r\n",
        "\r\n",
        "#AND\r\n",
        "bias = 1\r\n",
        "inputs = [[0,0],[0,1],[1,0],[1,1]]\r\n",
        "weights = [-1.5,1,1]\r\n",
        "result_table = []\r\n",
        "for input in inputs:\r\n",
        "  sum = neuron_sumD(bias, input, weights)\r\n",
        "  result_table.append([bias,input, weights, sum, fun(sum)])\r\n",
        "print(tabulate(result_table, headers=[\"Bias\",\"Input\",\"Weights\",\"Sum\",\"Output\"]))\r\n",
        "\r\n",
        "#OR\r\n",
        "bias = 1\r\n",
        "inputs = [[0,0],[0,1],[1,0],[1,1]]\r\n",
        "weights = [-0.5,1,1]\r\n",
        "result_table = []\r\n",
        "for input in inputs:\r\n",
        "  sum = neuron_sumD(bias, input, weights)\r\n",
        "  result_table.append([bias,input, weights, sum, fun(sum)])\r\n",
        "print(tabulate(result_table, headers=[\"Bias\",\"Input\",\"Weights\",\"Sum\",\"Output\"]))\r\n",
        "\r\n",
        "#NOT\r\n",
        "bias = 1\r\n",
        "inputs = [0,1]\r\n",
        "weights = [1,-2]\r\n",
        "result_table = []\r\n",
        "for input in inputs:\r\n",
        "  sum = neuron_sum(bias, input,weights)\r\n",
        "  result_table.append([bias,input, weights, sum, fun(sum)])\r\n",
        "print(tabulate(result_table, headers=[\"Bias\",\"Input\",\"Weights\",\"Sum\",\"Output\"]))\r\n",
        "\r\n",
        "#XNOR\r\n",
        "bias = 1\r\n",
        "inputs = [[0,0],[0,1],[1,0],[1,1]]\r\n",
        "weights = [0.5,-1,-1]\r\n",
        "result_table = []\r\n",
        "for input in inputs:\r\n",
        "  sum = layers(bias, input, weights)\r\n",
        "  result_table.append([bias,input, weights, sum, fun(sum)])\r\n",
        "print(tabulate(result_table, headers=[\"Bias\",\"Input\",\"Weights\",\"Sum\",\"Output\"]))\r\n",
        "\r\n",
        "#XOR\r\n",
        "bias = 1\r\n",
        "inputs = [[0,0],[0,1],[1,0],[1,1]]\r\n",
        "weights = [-0.5,1,1]\r\n",
        "result_table = []\r\n",
        "for input in inputs:\r\n",
        "  sum = layers(bias, input, weights)\r\n",
        "  result_table.append([bias,input, weights, sum, fun(sum)])\r\n",
        "print(tabulate(result_table, headers=[\"Bias\",\"Input\",\"Weights\",\"Sum\",\"Output\"]))"
      ],
      "execution_count": 33,
      "outputs": [
        {
          "output_type": "stream",
          "text": [
            "  Bias  Input    Weights         Sum    Output\n",
            "------  -------  ------------  -----  --------\n",
            "     1  [0, 0]   [-1.5, 1, 1]   -1.5         0\n",
            "     1  [0, 1]   [-1.5, 1, 1]   -0.5         0\n",
            "     1  [1, 0]   [-1.5, 1, 1]   -0.5         0\n",
            "     1  [1, 1]   [-1.5, 1, 1]    0.5         1\n",
            "  Bias  Input    Weights         Sum    Output\n",
            "------  -------  ------------  -----  --------\n",
            "     1  [0, 0]   [-0.5, 1, 1]   -0.5         0\n",
            "     1  [0, 1]   [-0.5, 1, 1]    0.5         1\n",
            "     1  [1, 0]   [-0.5, 1, 1]    0.5         1\n",
            "     1  [1, 1]   [-0.5, 1, 1]    1.5         1\n",
            "  Bias    Input  Weights      Sum    Output\n",
            "------  -------  ---------  -----  --------\n",
            "     1        0  [1, -2]        1         1\n",
            "     1        1  [1, -2]       -1         0\n",
            "  Bias  Input    Weights          Sum    Output\n",
            "------  -------  -------------  -----  --------\n",
            "     1  [0, 0]   [0.5, -1, -1]    0.5         1\n",
            "     1  [0, 1]   [0.5, -1, -1]   -0.5         0\n",
            "     1  [1, 0]   [0.5, -1, -1]   -0.5         0\n",
            "     1  [1, 1]   [0.5, -1, -1]   -1.5         0\n"
          ],
          "name": "stdout"
        }
      ]
    }
  ]
}