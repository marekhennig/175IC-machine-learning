{
  "nbformat": 4,
  "nbformat_minor": 0,
  "metadata": {
    "colab": {
      "name": "Untitled18.ipynb",
      "provenance": [],
      "history_visible": true,
      "authorship_tag": "ABX9TyPaMCFfITecaKu+UAQiOjd7",
      "include_colab_link": true
    },
    "kernelspec": {
      "name": "python3",
      "display_name": "Python 3"
    }
  },
  "cells": [
    {
      "cell_type": "markdown",
      "metadata": {
        "id": "view-in-github",
        "colab_type": "text"
      },
      "source": [
        "<a href=\"https://colab.research.google.com/github/marekhennig/175IC-machine-learning/blob/main/Zad_Wyklad_11.ipynb\" target=\"_parent\"><img src=\"https://colab.research.google.com/assets/colab-badge.svg\" alt=\"Open In Colab\"/></a>"
      ]
    },
    {
      "cell_type": "code",
      "metadata": {
        "id": "8-s0lqGlmc8A",
        "colab": {
          "base_uri": "https://localhost:8080/"
        },
        "outputId": "5d7d82a7-9863-4d37-fb56-2112e80df87c"
      },
      "source": [
        "from bs4 import BeautifulSoup\r\n",
        "import re\r\n",
        "import requests\r\n",
        "\r\n",
        "results=[]\r\n",
        "##wojewodztwo = input(\"Podaj wojewodztwo w którym znajduje się docelowe miasto: \")\r\n",
        "city = input(\"Podaj miasto do zczytania pogody: \")\r\n",
        "\r\n",
        "url = f'https://www.meteoprog.pl/pl/weather/{city}/'\r\n",
        "page = requests.get(url)\r\n",
        "bS = BeautifulSoup(page.text, 'html.parser')\r\n",
        "table = bS.findAll('div','weatherNow')\r\n",
        "#table2 = bS.findAll('div','data=tab'='tomorrowDay')\r\n",
        "if table != None:\r\n",
        "  temperatura=bS.find('span', 'temperature_value').text\r\n",
        "  #opis = bS.find('div', 'icon-weather').title.string\r\n",
        "\r\n",
        "  feel=bS.find('span', class_='tempStyle').text\r\n",
        "  fileName = city+\".txt\"\r\n",
        "  file = open(fileName, \"w\")\r\n",
        "  with open(fileName, 'a') as a_writer:\r\n",
        "      a_writer.write('Temperatura:')\r\n",
        "      a_writer.write(temperatura)\r\n",
        "      a_writer.write('\\n')\r\n",
        "      #a_writer.write(opis)\r\n",
        "      a_writer.write('\\nTemperatura odczuwalna: ')\r\n",
        "      a_writer.write(feel)\r\n",
        "else: \r\n",
        "  print('Błąd pobrania danych')"
      ],
      "execution_count": 45,
      "outputs": [
        {
          "output_type": "stream",
          "text": [
            "Podaj miasto do zczytania pogody: wroclaw\n"
          ],
          "name": "stdout"
        }
      ]
    }
  ]
}
